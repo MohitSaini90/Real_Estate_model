{
 "cells": [
  {
   "cell_type": "code",
   "execution_count": 1,
   "id": "b2d98a28",
   "metadata": {},
   "outputs": [],
   "source": [
    "from joblib import dump, load\n",
    "import numpy as np\n",
    "model=load('REAL_ESTATE')"
   ]
  },
  {
   "cell_type": "code",
   "execution_count": 2,
   "id": "a5829117",
   "metadata": {},
   "outputs": [],
   "source": [
    "# Enter features\n",
    "# features=np.array([[]])\n",
    "features= np.array([[-0.43942006,  3.12628155, -1.12165014, -0.27288841, -1.42262747,\n",
    "        -0.23759514, -1.31238772,  2.61111401, -1.0016859 , -0.5778192 ,\n",
    "        -0.97491834,  0.41164221, -0.86091034]])\n"
   ]
  },
  {
   "cell_type": "code",
   "execution_count": 3,
   "id": "0060229c",
   "metadata": {},
   "outputs": [
    {
     "data": {
      "text/plain": [
       "array([22.257])"
      ]
     },
     "execution_count": 3,
     "metadata": {},
     "output_type": "execute_result"
    }
   ],
   "source": [
    "model.predict(features)"
   ]
  },
  {
   "cell_type": "code",
   "execution_count": null,
   "id": "9caa466d",
   "metadata": {},
   "outputs": [],
   "source": []
  }
 ],
 "metadata": {
  "kernelspec": {
   "display_name": "Python 3 (ipykernel)",
   "language": "python",
   "name": "python3"
  },
  "language_info": {
   "codemirror_mode": {
    "name": "ipython",
    "version": 3
   },
   "file_extension": ".py",
   "mimetype": "text/x-python",
   "name": "python",
   "nbconvert_exporter": "python",
   "pygments_lexer": "ipython3",
   "version": "3.10.7"
  }
 },
 "nbformat": 4,
 "nbformat_minor": 5
}
