{
 "cells": [
  {
   "cell_type": "code",
   "execution_count": 1,
   "id": "b2d98a28",
   "metadata": {},
   "outputs": [],
   "source": [
    "from joblib import dump, load\n",
    "import numpy as np\n",
    "model=load('REAL_ESTATE')"
   ]
  },
  {
   "cell_type": "code",
   "execution_count": 2,
   "id": "a5829117",
   "metadata": {},
   "outputs": [],
   "source": [
    "# Enter features\n",
    "# features=np.array([[]])\n",
    "features= np.array([[0.00632,  18.0, 2.31, 0.0, 0.538,\n",
    "        6.575, 65.2,  4.090, 1.0 , -0.5778192 ,\n",
    "        -0.97491834,  0.41164221, -0.86091034]])\n"
   ]
  },
  {
   "cell_type": "code",
   "execution_count": 3,
   "id": "0060229c",
   "metadata": {},
   "outputs": [
    {
     "data": {
      "text/plain": [
       "array([22.146])"
      ]
     },
     "execution_count": 3,
     "metadata": {},
     "output_type": "execute_result"
    }
   ],
   "source": [
    "model.predict(features)"
   ]
  },
  {
   "cell_type": "code",
   "execution_count": null,
   "id": "9caa466d",
   "metadata": {},
   "outputs": [],
   "source": [
    "\"CRIM\":0.00632,\n",
    "       \"ZN\":18.0,\n",
    "       \"INDUS\":2.31,\n",
    "       \"CHAS\":0.0,\n",
    "       \"NOX\":0.538,\n",
    "       \"RM\":6.575,\n",
    "       \"AGE\":65.2,\n",
    "        \"DIS\":4.090,\n",
    "        \"RAD\":1.0,\n",
    "        \"TAX\":296,\n",
    "        \"PTRATIO\":15.3,\n",
    "        \"B\":296.90,\n",
    "        \"LSTAT\":4.98\n",
    "    }"
   ]
  }
 ],
 "metadata": {
  "kernelspec": {
   "display_name": "Python 3 (ipykernel)",
   "language": "python",
   "name": "python3"
  },
  "language_info": {
   "codemirror_mode": {
    "name": "ipython",
    "version": 3
   },
   "file_extension": ".py",
   "mimetype": "text/x-python",
   "name": "python",
   "nbconvert_exporter": "python",
   "pygments_lexer": "ipython3",
   "version": "3.10.7"
  }
 },
 "nbformat": 4,
 "nbformat_minor": 5
}
